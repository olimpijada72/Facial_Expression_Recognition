{
 "cells": [
  {
   "cell_type": "code",
   "execution_count": 1,
   "id": "973f65fe-f5c3-40ba-bac4-7093abbad4e8",
   "metadata": {},
   "outputs": [],
   "source": [
    "import numpy as np\n",
    "import pandas as pd\n",
    "from sklearn.svm import SVC\n",
    "from sklearn.discriminant_analysis import QuadraticDiscriminantAnalysis\n",
    "from sklearn.model_selection import train_test_split\n",
    "from sklearn.metrics import accuracy_score\n",
    "from sklearn.decomposition import PCA\n",
    "from sklearn.preprocessing import StandardScaler\n",
    "\n",
    "import matplotlib.pyplot as plt\n"
   ]
  },
  {
   "cell_type": "code",
   "execution_count": null,
   "id": "c15732d1-ad2b-46f7-93fc-8b71f86ce10f",
   "metadata": {},
   "outputs": [],
   "source": []
  },
  {
   "cell_type": "code",
   "execution_count": 2,
   "id": "dad368f3-61ed-4e57-bbcb-5416838f3bca",
   "metadata": {},
   "outputs": [],
   "source": [
    "\n",
    "\n",
    "# data_path = 'data/features.csv'\n",
    "data_path = 'data/features_2.csv'\n",
    "data = pd.read_csv(data_path)\n"
   ]
  },
  {
   "cell_type": "code",
   "execution_count": 3,
   "id": "fc9648e7-73f2-479f-9446-41322f5335f5",
   "metadata": {},
   "outputs": [
    {
     "data": {
      "text/html": [
       "<div>\n",
       "<style scoped>\n",
       "    .dataframe tbody tr th:only-of-type {\n",
       "        vertical-align: middle;\n",
       "    }\n",
       "\n",
       "    .dataframe tbody tr th {\n",
       "        vertical-align: top;\n",
       "    }\n",
       "\n",
       "    .dataframe thead th {\n",
       "        text-align: right;\n",
       "    }\n",
       "</style>\n",
       "<table border=\"1\" class=\"dataframe\">\n",
       "  <thead>\n",
       "    <tr style=\"text-align: right;\">\n",
       "      <th></th>\n",
       "      <th>emotion</th>\n",
       "      <th>feature_0</th>\n",
       "      <th>feature_1</th>\n",
       "      <th>feature_2</th>\n",
       "      <th>feature_3</th>\n",
       "      <th>feature_4</th>\n",
       "      <th>feature_5</th>\n",
       "      <th>feature_6</th>\n",
       "      <th>feature_7</th>\n",
       "      <th>feature_8</th>\n",
       "      <th>...</th>\n",
       "      <th>feature_990</th>\n",
       "      <th>feature_991</th>\n",
       "      <th>feature_992</th>\n",
       "      <th>feature_993</th>\n",
       "      <th>feature_994</th>\n",
       "      <th>feature_995</th>\n",
       "      <th>feature_996</th>\n",
       "      <th>feature_997</th>\n",
       "      <th>feature_998</th>\n",
       "      <th>feature_999</th>\n",
       "    </tr>\n",
       "  </thead>\n",
       "  <tbody>\n",
       "    <tr>\n",
       "      <th>0</th>\n",
       "      <td>anger</td>\n",
       "      <td>-3.374050</td>\n",
       "      <td>-4.201500</td>\n",
       "      <td>-1.379432</td>\n",
       "      <td>-1.991517</td>\n",
       "      <td>-0.879160</td>\n",
       "      <td>-0.236515</td>\n",
       "      <td>-1.020453</td>\n",
       "      <td>-2.756259</td>\n",
       "      <td>-2.090019</td>\n",
       "      <td>...</td>\n",
       "      <td>1.420132</td>\n",
       "      <td>-0.417811</td>\n",
       "      <td>1.790014</td>\n",
       "      <td>-0.974268</td>\n",
       "      <td>2.277266</td>\n",
       "      <td>2.825337</td>\n",
       "      <td>-0.945226</td>\n",
       "      <td>0.245493</td>\n",
       "      <td>-0.412888</td>\n",
       "      <td>0.417821</td>\n",
       "    </tr>\n",
       "    <tr>\n",
       "      <th>1</th>\n",
       "      <td>anger</td>\n",
       "      <td>-3.142779</td>\n",
       "      <td>-3.272339</td>\n",
       "      <td>-0.473411</td>\n",
       "      <td>-1.034305</td>\n",
       "      <td>-0.898905</td>\n",
       "      <td>0.387357</td>\n",
       "      <td>-0.372573</td>\n",
       "      <td>-3.333039</td>\n",
       "      <td>-2.484318</td>\n",
       "      <td>...</td>\n",
       "      <td>2.020956</td>\n",
       "      <td>1.156134</td>\n",
       "      <td>1.527367</td>\n",
       "      <td>-1.293098</td>\n",
       "      <td>2.071792</td>\n",
       "      <td>2.398509</td>\n",
       "      <td>-0.801370</td>\n",
       "      <td>-0.037821</td>\n",
       "      <td>-0.246707</td>\n",
       "      <td>0.960680</td>\n",
       "    </tr>\n",
       "    <tr>\n",
       "      <th>2</th>\n",
       "      <td>anger</td>\n",
       "      <td>-3.862835</td>\n",
       "      <td>-4.736306</td>\n",
       "      <td>-0.013016</td>\n",
       "      <td>-0.386987</td>\n",
       "      <td>-0.423331</td>\n",
       "      <td>-0.480952</td>\n",
       "      <td>-0.987659</td>\n",
       "      <td>-2.637403</td>\n",
       "      <td>-0.946556</td>\n",
       "      <td>...</td>\n",
       "      <td>1.355216</td>\n",
       "      <td>0.209859</td>\n",
       "      <td>0.901910</td>\n",
       "      <td>-1.859188</td>\n",
       "      <td>2.111249</td>\n",
       "      <td>2.153092</td>\n",
       "      <td>-1.806323</td>\n",
       "      <td>-0.221707</td>\n",
       "      <td>-1.277875</td>\n",
       "      <td>1.197531</td>\n",
       "    </tr>\n",
       "    <tr>\n",
       "      <th>3</th>\n",
       "      <td>anger</td>\n",
       "      <td>-3.949094</td>\n",
       "      <td>-3.904554</td>\n",
       "      <td>-2.408397</td>\n",
       "      <td>-2.448137</td>\n",
       "      <td>-1.744148</td>\n",
       "      <td>-0.184783</td>\n",
       "      <td>-0.181279</td>\n",
       "      <td>-3.197289</td>\n",
       "      <td>-1.698156</td>\n",
       "      <td>...</td>\n",
       "      <td>0.557256</td>\n",
       "      <td>-0.350272</td>\n",
       "      <td>0.843501</td>\n",
       "      <td>-2.037556</td>\n",
       "      <td>2.019527</td>\n",
       "      <td>1.740942</td>\n",
       "      <td>-1.879538</td>\n",
       "      <td>-0.133855</td>\n",
       "      <td>-0.720962</td>\n",
       "      <td>1.173536</td>\n",
       "    </tr>\n",
       "    <tr>\n",
       "      <th>4</th>\n",
       "      <td>anger</td>\n",
       "      <td>-3.586210</td>\n",
       "      <td>-4.171683</td>\n",
       "      <td>-1.484649</td>\n",
       "      <td>-2.201640</td>\n",
       "      <td>-0.376721</td>\n",
       "      <td>0.586027</td>\n",
       "      <td>-0.199893</td>\n",
       "      <td>-1.341736</td>\n",
       "      <td>-0.172441</td>\n",
       "      <td>...</td>\n",
       "      <td>0.655409</td>\n",
       "      <td>-0.542305</td>\n",
       "      <td>0.847469</td>\n",
       "      <td>0.598680</td>\n",
       "      <td>2.108732</td>\n",
       "      <td>2.468873</td>\n",
       "      <td>-1.044443</td>\n",
       "      <td>0.232312</td>\n",
       "      <td>-0.433584</td>\n",
       "      <td>1.562649</td>\n",
       "    </tr>\n",
       "  </tbody>\n",
       "</table>\n",
       "<p>5 rows × 1001 columns</p>\n",
       "</div>"
      ],
      "text/plain": [
       "  emotion  feature_0  feature_1  feature_2  feature_3  feature_4  feature_5  \\\n",
       "0   anger  -3.374050  -4.201500  -1.379432  -1.991517  -0.879160  -0.236515   \n",
       "1   anger  -3.142779  -3.272339  -0.473411  -1.034305  -0.898905   0.387357   \n",
       "2   anger  -3.862835  -4.736306  -0.013016  -0.386987  -0.423331  -0.480952   \n",
       "3   anger  -3.949094  -3.904554  -2.408397  -2.448137  -1.744148  -0.184783   \n",
       "4   anger  -3.586210  -4.171683  -1.484649  -2.201640  -0.376721   0.586027   \n",
       "\n",
       "   feature_6  feature_7  feature_8  ...  feature_990  feature_991  \\\n",
       "0  -1.020453  -2.756259  -2.090019  ...     1.420132    -0.417811   \n",
       "1  -0.372573  -3.333039  -2.484318  ...     2.020956     1.156134   \n",
       "2  -0.987659  -2.637403  -0.946556  ...     1.355216     0.209859   \n",
       "3  -0.181279  -3.197289  -1.698156  ...     0.557256    -0.350272   \n",
       "4  -0.199893  -1.341736  -0.172441  ...     0.655409    -0.542305   \n",
       "\n",
       "   feature_992  feature_993  feature_994  feature_995  feature_996  \\\n",
       "0     1.790014    -0.974268     2.277266     2.825337    -0.945226   \n",
       "1     1.527367    -1.293098     2.071792     2.398509    -0.801370   \n",
       "2     0.901910    -1.859188     2.111249     2.153092    -1.806323   \n",
       "3     0.843501    -2.037556     2.019527     1.740942    -1.879538   \n",
       "4     0.847469     0.598680     2.108732     2.468873    -1.044443   \n",
       "\n",
       "   feature_997  feature_998  feature_999  \n",
       "0     0.245493    -0.412888     0.417821  \n",
       "1    -0.037821    -0.246707     0.960680  \n",
       "2    -0.221707    -1.277875     1.197531  \n",
       "3    -0.133855    -0.720962     1.173536  \n",
       "4     0.232312    -0.433584     1.562649  \n",
       "\n",
       "[5 rows x 1001 columns]"
      ]
     },
     "execution_count": 3,
     "metadata": {},
     "output_type": "execute_result"
    }
   ],
   "source": [
    "data = data.drop('image_name', axis=1)\n",
    "data.head()"
   ]
  },
  {
   "cell_type": "code",
   "execution_count": null,
   "id": "780efc5a-c333-4dd2-9ddf-590a779b3121",
   "metadata": {},
   "outputs": [],
   "source": []
  },
  {
   "cell_type": "code",
   "execution_count": 4,
   "id": "3145e964-f889-43c9-9b2a-fa237daf2935",
   "metadata": {},
   "outputs": [],
   "source": [
    "X = data.iloc[:, 1:]\n",
    "y = data.iloc[:,0]"
   ]
  },
  {
   "cell_type": "code",
   "execution_count": 5,
   "id": "a4fb27d0-511a-43a4-899e-08e972626522",
   "metadata": {},
   "outputs": [],
   "source": [
    "# Standardize the data\n",
    "scaler = StandardScaler()\n",
    "scaled_data = scaler.fit_transform(X)\n"
   ]
  },
  {
   "cell_type": "code",
   "execution_count": 7,
   "id": "50fac123-0bf0-4358-a0c3-97e13e30af84",
   "metadata": {},
   "outputs": [
    {
     "data": {
      "image/png": "[encoded data removed]",
      "text/plain": [
       "<Figure size 640x480 with 1 Axes>"
      ]
     },
     "metadata": {},
     "output_type": "display_data"
    }
   ],
   "source": [
    "pca = PCA().fit(X)\n",
    "plt.plot(np.cumsum(pca.explained_variance_ratio_))\n",
    "plt.xlabel('Number of Components')\n",
    "plt.ylabel('Cumulative Explained Variance')\n",
    "plt.title('Explained Variance vs. Number of Components')\n",
    "plt.show()\n"
   ]
  },
  {
   "cell_type": "code",
   "execution_count": null,
   "id": "d08ed62d-f665-4d18-8c44-2b528214315e",
   "metadata": {},
   "outputs": [],
   "source": [
    "pca = PCA(n_components=25)  # Choose the number of components to keep\n",
    "\n",
    "X_train_pca = pca.fit_transform(X_res)\n",
    "X_test_pca = pca.fit_transform(X_test)\n",
    "\n",
    "\n",
    "# Step 5: Transform the Data\n",
    "print(f\"Original shape: {X_res.shape}\")\n",
    "print(f\"Transformed shape: {X_train_pca.shape}\")\n"
   ]
  },
  {
   "cell_type": "code",
   "execution_count": 5,
   "id": "603ef0fd-b4e9-49c4-9715-fbaf15061db4",
   "metadata": {},
   "outputs": [
    {
     "name": "stdout",
     "output_type": "stream",
     "text": [
      "Explained variance ratio: [0.2205372  0.09144687 0.08249894 0.04798406 0.04398967 0.03834259\n",
      " 0.03228973 0.02854817 0.02331689 0.02187802]\n",
      "Cumulative explained variance: [0.2205372  0.31198406 0.394483   0.44246706 0.48645673 0.52479931\n",
      " 0.55708904 0.58563721 0.60895411 0.63083213]\n"
     ]
    },
    {
     "data": {
      "image/png": "[encoded data removed]",
      "text/plain": [
       "<Figure size 800x600 with 1 Axes>"
      ]
     },
     "metadata": {},
     "output_type": "display_data"
    }
   ],
   "source": [
    "\n",
    "\n",
    "# Perform PCA\n",
    "n_components = 10  # Number of principal components to keep\n",
    "pca = PCA(n_components=n_components)\n",
    "pca_data = pca.fit_transform(scaled_data)\n",
    "\n",
    "# Print the explained variance ratio\n",
    "print(\"Explained variance ratio:\", pca.explained_variance_ratio_)\n",
    "print(\"Cumulative explained variance:\", np.cumsum(pca.explained_variance_ratio_))\n",
    "\n",
    "# Plot the explained variance ratio\n",
    "plt.figure(figsize=(8, 6))\n",
    "plt.plot(np.cumsum(pca.explained_variance_ratio_), marker='o')\n",
    "plt.xlabel('Number of Principal Components')\n",
    "plt.ylabel('Cumulative Explained Variance')\n",
    "plt.title('Explained Variance by Principal Components')\n",
    "plt.grid(True)\n",
    "plt.show()\n",
    "\n",
    "\n"
   ]
  },
  {
   "cell_type": "code",
   "execution_count": 6,
   "id": "09797e5e-bb8c-434a-9966-6d87c80b9e4d",
   "metadata": {},
   "outputs": [
    {
     "name": "stdout",
     "output_type": "stream",
     "text": [
      "PCA-transformed data saved to 'pca_transformed_data.csv'\n"
     ]
    }
   ],
   "source": [
    "# If you need to save the PCA-transformed data to a CSV file\n",
    "pca_df = pd.DataFrame(pca_data, columns=[f'PC{i+1}' for i in range(n_components)])\n",
    "pca_df.to_csv('pca_transformed_data_2.csv', index=False)\n",
    "print(\"PCA-transformed data saved to 'pca_transformed_data.csv'\")"
   ]
  },
  {
   "cell_type": "code",
   "execution_count": 7,
   "id": "1536fc04-a9fd-4c0f-a792-fe8335e25c4a",
   "metadata": {},
   "outputs": [],
   "source": [
    "X = pca_df"
   ]
  },
  {
   "cell_type": "code",
   "execution_count": 8,
   "id": "3c5da41a-add2-41e8-ad40-d3fea8b1cfb0",
   "metadata": {},
   "outputs": [],
   "source": [
    "\n",
    "# Split the dataset into training and testing sets\n",
    "X_train, X_test, y_train, y_test = train_test_split(X, y, test_size=0.3, random_state=42)\n",
    "\n"
   ]
  },
  {
   "cell_type": "code",
   "execution_count": 9,
   "id": "1c8479e0-d7b6-490c-b1de-a967162ed894",
   "metadata": {},
   "outputs": [
    {
     "name": "stdout",
     "output_type": "stream",
     "text": [
      "Accuracy: 0.32\n"
     ]
    }
   ],
   "source": [
    "# Initialize the QDA model\n",
    "qda = QuadraticDiscriminantAnalysis()\n",
    "\n",
    "# Fit the model to the training data\n",
    "qda.fit(X_train, y_train)\n",
    "\n",
    "# Predict the class labels for the test set\n",
    "y_pred = qda.predict(X_test)\n",
    "\n",
    "# Calculate the accuracy of the model\n",
    "accuracy = accuracy_score(y_test, y_pred)\n",
    "print(f'Accuracy: {accuracy:.2f}')"
   ]
  },
  {
   "cell_type": "code",
   "execution_count": 10,
   "id": "470b20b4-3b6f-4a2f-825b-d06b2bbfd6cc",
   "metadata": {},
   "outputs": [
    {
     "name": "stdout",
     "output_type": "stream",
     "text": [
      "Accuracy: 0.31\n"
     ]
    }
   ],
   "source": [
    "# Initialize the SVM classifier\n",
    "svm_classifier = SVC(kernel='linear')  # You can choose 'linear', 'rbf', etc.\n",
    "\n",
    "# Train the SVM classifier\n",
    "svm_classifier.fit(X_train, y_train)\n",
    "\n",
    "# Predict the class labels for the test set\n",
    "y_pred = svm_classifier.predict(X_test)\n",
    "\n",
    "# Calculate the accuracy of the model\n",
    "accuracy = accuracy_score(y_test, y_pred)\n",
    "print(f'Accuracy: {accuracy:.2f}')"
   ]
  }
 ],
 "metadata": {
  "kernelspec": {
   "display_name": "Python 3 (ipykernel)",
   "language": "python",
   "name": "python3"
  },
  "language_info": {
   "codemirror_mode": {
    "name": "ipython",
    "version": 3
   },
   "file_extension": ".py",
   "mimetype": "text/x-python",
   "name": "python",
   "nbconvert_exporter": "python",
   "pygments_lexer": "ipython3",
   "version": "3.10.12"
  }
 },
 "nbformat": 4,
 "nbformat_minor": 5
}
